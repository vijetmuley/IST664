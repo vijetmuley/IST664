{
 "cells": [
  {
   "cell_type": "markdown",
   "metadata": {},
   "source": [
    "Name: Vijet Muley"
   ]
  },
  {
   "cell_type": "markdown",
   "metadata": {},
   "source": [
    "Homework-1"
   ]
  },
  {
   "cell_type": "markdown",
   "metadata": {},
   "source": [
    "IST664: Natural Language Processing"
   ]
  },
  {
   "cell_type": "code",
   "execution_count": 1,
   "metadata": {},
   "outputs": [],
   "source": [
    "import nltk                             #Importing nltk\n",
    "import re                               #Improting for using regular expressions\n",
    "from nltk.corpus import stopwords       #Importing to use English stopwords list\n",
    "from nltk.probability import FreqDist   #Importing to check frequency distribution\n",
    "import string                           #Importing to use the punctuations\n",
    "from nltk.stem import WordNetLemmatizer #Importing to use lemmatization\n",
    "from nltk.collocations import *         #For using bigrams"
   ]
  },
  {
   "cell_type": "markdown",
   "metadata": {},
   "source": [
    "2). Pre-processing:"
   ]
  },
  {
   "cell_type": "code",
   "execution_count": 2,
   "metadata": {},
   "outputs": [],
   "source": [
    "#Reading the actual text file with review blocks:\n",
    "with open(r\"clothing_shoes_jewelry.txt\",\"r\") as file:\n",
    "    review_text=file.read()"
   ]
  },
  {
   "cell_type": "code",
   "execution_count": 3,
   "metadata": {},
   "outputs": [
    {
     "name": "stdout",
     "output_type": "stream",
     "text": [
      " provided for evaluation and review\n",
      "overall:5.0\n",
      "summary:Convenient, lightweight, and durable\n",
      "unixReviewTime:1402185600\n",
      "reviewTime:06 8, 2014\n",
      "\n",
      "reviewerID:A22CW0ZHY3NJH8\n",
      "asin:B00KKXCJQU\n",
      "reviewerName:Noname\n",
      "helpful:[2, 2]\n",
      "reviewText:I am on vacation with my family of four and this Shacke Pak set has been wonderful.  Except for my husband, we all share the same suitcase.  Underwear and socks have always been a jumble, but not anymore.  Each kid gets his and her own Shacke Pak.  I get one, also, and there was one to spare for my loose personal supplies.  How wonderful not to have my luggage look all a clutter.The set comes with a laundry bag, which I admit is a bit small for a family, or even a single person who's packed for more than a weekend trip.  Bags on trips will always find a purpose, though.  I used it to haul my supplies from the cabin to the showers.The Shack Pak bags are getting a good workout, as we are basically running them through three separate vacations this month.  I'm still using them and my daughter will be using it next week.I like the mesh that lets us see what's inside without opening the bags.  The zippers are solid and the nylon is durable.  The bags are taking a beating and holding up well.  When done, they will nest inside each other neatly, ready for our next trip.This product was provided for review by Shacke.\n",
      "overall:5.0\n",
      "summary:Holds Up Well In Real World Test\n",
      "unixReviewTime:1404691200\n",
      "reviewTime:07 7, 2014\n",
      "\n",
      "reviewerID:A30VWT3R25QAVD\n",
      "asin:B00KKXCJQU\n",
      "reviewerName:THE-DEADLY-DOG \"Living and Loving Life.\"\n",
      "helpful:[0, 1]\n",
      "reviewText:When I signed up to receive a free set of Shacke Pak for review I thought to myself &#34;What the heck am I taking this for? I don't do any travel, don't do any vacations, and don't even go out to do laundry.&#34; I suppose it was the desire to posses more &#34;goodies&#34; that truly drove me, but man was I happy when I cracked the plastic bag and checked these bad boys out.What impressed me the most, (and I will keep this review short to save people the agony of reading my diatribe) was the size in comparison to other travel bags and their portability. When looking at the package it appears as though you may be thoroughly disappointed, but the second you crack these bags open you watch in amazement as they expand and truly do hold large quantities of goods. I received my free packing cube set on June 7th and have been using them for little things ever since. Whether it's carrying my uniform into work, bringing clothes down to the laundry room, or moving items around to better organize and keep these together these bags are tough, they are durable, and they are convenient.I am truly pleased with this Shacke product, and had it been the other way around--with me looking for some good travel/storage bags, this is where I would go.5 Agile, Mobile, and Versatile Stars out of 5!\n",
      "overall:5.0\n",
      "summary:Don't Travel? Still Way too Useful for 'Average Joe'\n",
      "unixReviewTime:1403481600\n",
      "reviewTime:06 23, 2014\n",
      "\n",
      "\n"
     ]
    }
   ],
   "source": [
    "#Looking at the last 3000 characters to later match whether my method of pulling review texts worked properly or not:\n",
    "print(review_text[-3000:])"
   ]
  },
  {
   "cell_type": "code",
   "execution_count": 4,
   "metadata": {},
   "outputs": [],
   "source": [
    "#Isn't working properly, so came up with an alternative way\n",
    "#pattern=re.compile(\"^reviewText:[A-Za-z0-9_\\s][A-Za-z0-9_'\\+\\.\\s\\,\\$]*\\n\")"
   ]
  },
  {
   "cell_type": "code",
   "execution_count": 5,
   "metadata": {},
   "outputs": [
    {
     "name": "stdout",
     "output_type": "stream",
     "text": [
      "['reviewerID:A1KLRMWW2FWPL4', 'asin:0000031887', 'reviewerName:Amazon Customer \"cameramom\"', 'helpful:[0, 0]', \"reviewText:This is a great tutu and at a really great price. It doesn't look cheap at all. I'm so glad I looked on Amazon and found such an affordable tutu that isn't made poorly. A++\", 'overall:5.0', 'summary:Great tutu-  not cheaply made', 'unixReviewTime:1297468800', 'reviewTime:02 12, 2011']\n"
     ]
    }
   ],
   "source": [
    "#I am testing how the split function will work on a single review block so that I can generalize it to the whole file:\n",
    "test='''reviewerID:A1KLRMWW2FWPL4\n",
    "asin:0000031887\n",
    "reviewerName:Amazon Customer \"cameramom\"\n",
    "helpful:[0, 0]\n",
    "reviewText:This is a great tutu and at a really great price. It doesn't look cheap at all. I'm so glad I looked on Amazon and found such an affordable tutu that isn't made poorly. A++\n",
    "overall:5.0\n",
    "summary:Great tutu-  not cheaply made\n",
    "unixReviewTime:1297468800\n",
    "reviewTime:02 12, 2011'''\n",
    "print(test.split(\"\\n\"))"
   ]
  },
  {
   "cell_type": "code",
   "execution_count": 6,
   "metadata": {},
   "outputs": [],
   "source": [
    "#I am a gonna make an empty list and for every single line in the text file, if it matches my regular expression, I will\n",
    "#append it to the list, cause my regular expression checks for strings starting with 'reviewtext' and properly followed by\n",
    "#anything. Thus, I will have all the review texts in that one list; a list of strings:\n",
    "mth=[]\n",
    "for a in review_text.split(\"\\n\"):\n",
    "    if re.match(r\"^reviewText:[A-Za-z0-9_'\\+\\.\\s\\,\\$]*\",a):\n",
    "        mth.append(a[11:].lstrip())"
   ]
  },
  {
   "cell_type": "code",
   "execution_count": 7,
   "metadata": {},
   "outputs": [
    {
     "data": {
      "text/plain": [
       "['These are cozy and complements well for yoga. Very good grip. My daughter used for her stretching exercises before dance practices and she loved these. Sample provided for fair and honest review.',\n",
       " \"I really hate my husband's packing system. He takes a huge suitcase, puts in some clothes and closes the suitcase while his clothing bounces around. When we arrive at our destination, I discover he has barely packed enough, and invariably he needs more than he packed.  I take a suitcase half the size and ... well, you get the idea.This clothing organizer is perfect, and I really wish I had it on my recent ten day trip to New York. To keep organized for that trip, I had to use Zip Lock bags!These four packing cubes fit nicely into my JEEP Suitcase - I use the Extra large and small in the bottom, and the Large and Medium in the top. I then lay the laundry bag across the top ready to use. The extra large holds my trousers tightly, and the Large works well for my blouses and bras. I put my underwear in the small (including my socks) and save the small one for items that might otherwise be loose in my suitcase. But if I rolled my underpants, it could be used instead of the medium one easily. While I normally don't carry extra shoes, having the laundry bag makes it easy to keep them separate from my clothing.As you are aware, by packing neatly and tightly, your clothing actually gets fewer wrinkles, and is a breeze to unpack at your destination point. The packing cubes themselves are very light and allow for your clothing to &#34;breathe.&#34; They are sturdy, well made, and come with a lifetime guarantee. You do need to register your organizers to take advantage of it, but I noticed they were offering a free small cube on their Web site for those who registered at the time I filled out my form.Since everything is folded and zipped into the bags, it not only organizes my clothing, but it let's me pack more. I am now teaching my husband how to put his things in here ... and just maybe we can save a bit on suitcase costs when we travel.Because of the sizes, I would suggest that you use the smaller organizers for a carry on, although a lot will depend upon the size and shape that you are carrying on.Something you might want to remember is the weight limit for the airline you use. Since this allows &#34;compressed&#34; packing, your suitcase can be small but still weigh more because it contains the same number of clothing items.I received a complimentary set of these to test and consider for a review.After nearly 40 years of marriage, all I have to say is that they could have saved a lot of rough patches along the road during our vacations. As an experienced spouse, I recommend two sets, one for each of you.\",\n",
       " \"*Disclosure: I was contacted by a rep for Shacke and provided a free sample for the purposes of giving my thoughts on it.*Most of the time, I do my best to keep my travel gear light.  Not having to check luggage is the ideal, even if my shoulder is about to fall off from the weight of my pack.  And when I do take more than a carry-on, I have it arranged *just so*.  Invariably, everything gets shifted, especially when there is one of those little cards in there to tell you that your stuff has been gone through by security.  Shacke offered up these travel cubes, so I decided to give them a try on my next few trips.Looking them over, they seem pretty well made.  Good stitching, worthy material, solid zippers.  Shacke also included a guide to packing, which I admit I snickered at and tossed. Sadly, all of these combined were too big to fit in my pack, so into the small suitcase they went.  Arriving on the other end, everything was just where I'd put it.  Surprisingly, the little security card was inside too.  As nothing was muffed up, I assume the agent didn't feel like doing more than cursory check.  Great!  The included laundry bag came in handy, something that I usually pack for or snag the dry cleaning bag from the hotel room for.  On subsequent trips, I was able to put two into my pack, which I admit did help from having to dig around in the bottom of the pack looking for specific items.All in all, the packing cubes are nifty and have held up well.  If you're in the market for some travel organization, this might be just what you're looking for.\",\n",
       " \"This set of travel organizers includes four pieces total. There is a small, medium, large and extra-large travel organizer. There is also a bonus laundry bag that can also be used to store the travel organizers in. The Amazon listing lists the dimensions of the bags but some of them are slightly different according to my measurements. My measurements are below.Small Cube - 11 x 6.75 x 3.5 inchesMedium Cube - 14 x 10 x 3.5 inchesLarge Cube - 14 x 13 x 3.5 inchesExtra Large Cube - 18 x 13.75 x 4Laundry / Storage Bag - 20.75 x 14.5 inchesThese bags are made of water resistant nylon. They have mesh vented areas in the front so if you were to use these on their own the contents could get wet if you got caught out in the rain. They are strong and durable and can withstand abuse. Most of the travel organizers are black but they have some dark blue vented areas on the front and the zippers have dark blue grips on them. The laundry / storage bag is black water resistant nylon with Shacke Pak printed on the front with large white and blue print. They have dual zippers on each bag. They are sharp looking bags and I honestly wouldn't mind having a matching set of full size luggage that looked similar to these.These smaller travel organizers can be used inside of larger luggage if you wish organize your contents. I think they are perfect for a short extended weekend trip or for kids when they stay the night at a friend's house. The size is perfect for smaller trips or for a longer trip when it's only one person. We got back from a short two day trip to a theme park and water park and we used these instead of a much larger suitcase. It was only a one night stay so we needed clothes for two days and these worked out quite well. These smaller bag as much easier to fit into the trunk of a car as well.I like that when they aren't in use you can nest them inside each other and they can all be stored inside of the laundry bag so they will stay clean while in storage. Overall these seem to be made well and they have really come in handy. I like them a lot!Sample provided for review.\",\n",
       " 'When I pack it looks like a disaster area in a suitcase.  I pack a little of this, throw in a little of that, and end up with a twirled up mess.  Coming back is even worse because I sometimes have dirty laundry.  On my return trip, I truly feel sorry for the TSA when they have to sort through my mess to find that one thing that doesn&#8217;t belong.I tried working with these, and believe me, they are not for clothes only.  Books, electronics, snacks, and anything I usually toss in my bag will fit.  One thing I do in order to try to get even more clothing into my suitcase is to roll my clothing.  With these Shacke Pak bags it keeps them right in line.Amazingly, there&#8217;s a Quick Start Guide that gives suggestions as to what to take for three-, five-, and ten-day trips.  It&#8217;s like having one of the Dugger girls on hand to set up a bag for me.  I never know quite what to take and I tend to over-pack quite frequently.  I&#8217;ll give an example of one below.3 DAY TRIP&#9788;  1 Sweater / Cardigan&#9788;  1 Pants&#9788;  2 Shorts / Skirts&#9788;  4 Boxers /  Undergarments&#9788;  5 Pairs of Socks&#9788;  7 Shirts / Blouses&#9788;  1 PajamasThere is a sidebar of Quick Tips and even a video tutorial on the Shacke site.  I think we all know how to pack, but on the Quick Start Guide there are visuals that even indicate which bag one should use to pack with.  TSA will be pleased to note that there&#8217;s a laundry bag included in this set.FEATURES:&#9658;  Made From High Quality Water Resistant Nylon Material to Withstand the Wear and Tear of Traveling&#9658;  4 Packing Cubes - Extra Large( 17.5&#8221; x 12.75&#8221; x 4&#8221;) Large (13.75&#8221; x 12.75&#8221; x 4&#8221;) Medium (13.75x9.75x4) Small (11&#8221; x 6.75&#8221; x 4&#8221;)&#9658;  X Design with Double Stitching - Creates a Strong Reinforced Lid to Hold Your Clothes in Place and Prevents the Bag Material in the Middle to Fold Upwards.&#9658;  4 inch Deep Design Allows You to Fit All The Clothes You Need into Our Bags&#9658;  All Customers Have Full Access To Our Online Tutorial Video and Interactive Trip Planner&#9658;  Laundry Bag Included to Help Separate your Dirty Clothes At The End of The TripThe four different bag sizes is quite convenient.  They have YKK zippers and before I started experimenting with the bags I snipped a few stray threads so they wouldn&#8217;t catch.  These bags are four inches deep and actually have handles on them.  I can now unpack in a flash ... just grab and throw in drawers temporarily when I get to my destination.They have bright blue double-stitched piping are made of water-resistant nylon, and have breathable mesh, something that gives them a little pizzazz.  I&#8217;ve never used this type of cube system before, but definitely like it.  I&#8217;m from the days where packing was an art form.  We used to fold carefully, separate with tissue paper, and had a place for everything.  This system I most certainly like and it suits the &#8220;lazy&#8221; in me.  Oh, and not for clothes only.  My last airport weigh-in was 51 pounds.  These will hold a lot of books!Sample provided for review.',\n",
       " 'I don\\'t normally go ga-ga over a product very often, but these cubes are so awesome I couldn\\'t help myself. Here\\'s my review:I\\'m a pretty organized guy. At home, I keep my things where they belong, and there\\'s a place for everything.I am also a frequent traveler.And when I travel, something goes wrong. My neatness turns into something else. It all starts innocently enough. I pack everything perfectly. Underwear here, shorts in a stack, tshirts on the left, dress shirts and slacks on the right, toiletries on the top. Then, once I get to the hotel and change clothes, the whole case is in shambles. And it only gets worse. If I\\'m on a week-long trip, I\\'m doomed by day 3.Now, enter the Shacke Packing Cubes! What a brilliant idea, and yet such a simple one. Pack packs in your pack! These little wonders have allowed me to compartmentalize my suitcase in a way that the little zippered pockets around the sides never did. I just put each category of clothes (i.e. shorts, underwear, etc.) it its own \"cube\". Then, when I need a pair of boxers, I just go straight to the source and pull one out. No hunting, no pecking. And no suitcase that already looks like a laundry basket at the start of the trip.In conclusion, these are so good, I\\'ve got to order myself a second set.[sample provided for an honest review]',\n",
       " \"I've been traveling back and forth to England since I was three. I've packed way too many suitcases. Some were well packed, most were not. I tend to throw things in and dig for them later.This is a great idea for packing more neatly and effectively. So many sizes, there is one for everything including shirts, pants, socks and underwear. Easy to pull out, easy to unpack. I like the addition of the laundry bag but it is pretty small. I like using it for shoes, which I don't like having floating around in my suitcase. Or it will fit a few unmentionables and maybe a couple of shirts. But you could use it for taking clothes to the local laundromat because it is black, no one will see what's inside.These are nicely made, reinforced seams, ventilation/visibility mesh, and zipper closures.I was provided a sample for review.\",\n",
       " \"These are very nice packing cubes and the 18 x 21 in. laundry and storage bag is a nice bonus.The four-inch depth and mix of sizes provided is ideal for organizing suitcases, and especially rolling carry-ons, which are typically limited to approximately 22 in. x 14 in. x 9 in.Combining two sets allows for even more versatility and choice; I would suggest getting three sets to use for a couple.They are indeed very well-made, just as claimed, with high-quality and smoothly-working zippers with easy-to-spot pulls, contrasting taped seams, and carrying handles. The nylon fabric is tough and water-resistant and the ventilating mesh on top is snag-resistant.I have been looking at packing cubes in different stores and online for several years, and these are the most thoughtfully-designed ones that I've seen, both overall and particularly for the four-inch depth.A sample was provided for evaluation and review\",\n",
       " \"I am on vacation with my family of four and this Shacke Pak set has been wonderful.  Except for my husband, we all share the same suitcase.  Underwear and socks have always been a jumble, but not anymore.  Each kid gets his and her own Shacke Pak.  I get one, also, and there was one to spare for my loose personal supplies.  How wonderful not to have my luggage look all a clutter.The set comes with a laundry bag, which I admit is a bit small for a family, or even a single person who's packed for more than a weekend trip.  Bags on trips will always find a purpose, though.  I used it to haul my supplies from the cabin to the showers.The Shack Pak bags are getting a good workout, as we are basically running them through three separate vacations this month.  I'm still using them and my daughter will be using it next week.I like the mesh that lets us see what's inside without opening the bags.  The zippers are solid and the nylon is durable.  The bags are taking a beating and holding up well.  When done, they will nest inside each other neatly, ready for our next trip.This product was provided for review by Shacke.\",\n",
       " \"When I signed up to receive a free set of Shacke Pak for review I thought to myself &#34;What the heck am I taking this for? I don't do any travel, don't do any vacations, and don't even go out to do laundry.&#34; I suppose it was the desire to posses more &#34;goodies&#34; that truly drove me, but man was I happy when I cracked the plastic bag and checked these bad boys out.What impressed me the most, (and I will keep this review short to save people the agony of reading my diatribe) was the size in comparison to other travel bags and their portability. When looking at the package it appears as though you may be thoroughly disappointed, but the second you crack these bags open you watch in amazement as they expand and truly do hold large quantities of goods. I received my free packing cube set on June 7th and have been using them for little things ever since. Whether it's carrying my uniform into work, bringing clothes down to the laundry room, or moving items around to better organize and keep these together these bags are tough, they are durable, and they are convenient.I am truly pleased with this Shacke product, and had it been the other way around--with me looking for some good travel/storage bags, this is where I would go.5 Agile, Mobile, and Versatile Stars out of 5!\"]"
      ]
     },
     "execution_count": 7,
     "metadata": {},
     "output_type": "execute_result"
    }
   ],
   "source": [
    "#Looking at last 10 review texts; the last revieiw from above and here match:\n",
    "len(mth)\n",
    "mth[-10:]"
   ]
  },
  {
   "cell_type": "code",
   "execution_count": 8,
   "metadata": {},
   "outputs": [],
   "source": [
    "#Answer to question-1\n",
    "#Just writing all the reviews to a file, as an answer for question 1:\n",
    "with open(\"reviews.txt\",\"w\") as file:\n",
    "    for review in mth:\n",
    "        file.write(review+\"\\n\")"
   ]
  },
  {
   "cell_type": "code",
   "execution_count": 9,
   "metadata": {},
   "outputs": [
    {
     "name": "stderr",
     "output_type": "stream",
     "text": [
      "[nltk_data] Downloading package stopwords to\n",
      "[nltk_data]     C:\\Users\\user\\AppData\\Roaming\\nltk_data...\n",
      "[nltk_data]   Package stopwords is already up-to-date!\n"
     ]
    },
    {
     "data": {
      "text/plain": [
       "True"
      ]
     },
     "execution_count": 9,
     "metadata": {},
     "output_type": "execute_result"
    }
   ],
   "source": [
    "#Downloading stopword list:\n",
    "nltk.download(\"stopwords\")"
   ]
  },
  {
   "cell_type": "code",
   "execution_count": 10,
   "metadata": {},
   "outputs": [
    {
     "data": {
      "text/plain": [
       "['i',\n",
       " 'me',\n",
       " 'my',\n",
       " 'myself',\n",
       " 'we',\n",
       " 'our',\n",
       " 'ours',\n",
       " 'ourselves',\n",
       " 'you',\n",
       " \"you're\",\n",
       " \"you've\",\n",
       " \"you'll\",\n",
       " \"you'd\",\n",
       " 'your',\n",
       " 'yours',\n",
       " 'yourself',\n",
       " 'yourselves',\n",
       " 'he',\n",
       " 'him',\n",
       " 'his',\n",
       " 'himself',\n",
       " 'she',\n",
       " \"she's\",\n",
       " 'her',\n",
       " 'hers',\n",
       " 'herself',\n",
       " 'it',\n",
       " \"it's\",\n",
       " 'its',\n",
       " 'itself',\n",
       " 'they',\n",
       " 'them',\n",
       " 'their',\n",
       " 'theirs',\n",
       " 'themselves',\n",
       " 'what',\n",
       " 'which',\n",
       " 'who',\n",
       " 'whom',\n",
       " 'this',\n",
       " 'that',\n",
       " \"that'll\",\n",
       " 'these',\n",
       " 'those',\n",
       " 'am',\n",
       " 'is',\n",
       " 'are',\n",
       " 'was',\n",
       " 'were',\n",
       " 'be',\n",
       " 'been',\n",
       " 'being',\n",
       " 'have',\n",
       " 'has',\n",
       " 'had',\n",
       " 'having',\n",
       " 'do',\n",
       " 'does',\n",
       " 'did',\n",
       " 'doing',\n",
       " 'a',\n",
       " 'an',\n",
       " 'the',\n",
       " 'and',\n",
       " 'but',\n",
       " 'if',\n",
       " 'or',\n",
       " 'because',\n",
       " 'as',\n",
       " 'until',\n",
       " 'while',\n",
       " 'of',\n",
       " 'at',\n",
       " 'by',\n",
       " 'for',\n",
       " 'with',\n",
       " 'about',\n",
       " 'against',\n",
       " 'between',\n",
       " 'into',\n",
       " 'through',\n",
       " 'during',\n",
       " 'before',\n",
       " 'after',\n",
       " 'above',\n",
       " 'below',\n",
       " 'to',\n",
       " 'from',\n",
       " 'up',\n",
       " 'down',\n",
       " 'in',\n",
       " 'out',\n",
       " 'on',\n",
       " 'off',\n",
       " 'over',\n",
       " 'under',\n",
       " 'again',\n",
       " 'further',\n",
       " 'then',\n",
       " 'once',\n",
       " 'here',\n",
       " 'there',\n",
       " 'when',\n",
       " 'where',\n",
       " 'why',\n",
       " 'how',\n",
       " 'all',\n",
       " 'any',\n",
       " 'both',\n",
       " 'each',\n",
       " 'few',\n",
       " 'more',\n",
       " 'most',\n",
       " 'other',\n",
       " 'some',\n",
       " 'such',\n",
       " 'no',\n",
       " 'nor',\n",
       " 'not',\n",
       " 'only',\n",
       " 'own',\n",
       " 'same',\n",
       " 'so',\n",
       " 'than',\n",
       " 'too',\n",
       " 'very',\n",
       " 's',\n",
       " 't',\n",
       " 'can',\n",
       " 'will',\n",
       " 'just',\n",
       " 'don',\n",
       " \"don't\",\n",
       " 'should',\n",
       " \"should've\",\n",
       " 'now',\n",
       " 'd',\n",
       " 'll',\n",
       " 'm',\n",
       " 'o',\n",
       " 're',\n",
       " 've',\n",
       " 'y',\n",
       " 'ain',\n",
       " 'aren',\n",
       " \"aren't\",\n",
       " 'couldn',\n",
       " \"couldn't\",\n",
       " 'didn',\n",
       " \"didn't\",\n",
       " 'doesn',\n",
       " \"doesn't\",\n",
       " 'hadn',\n",
       " \"hadn't\",\n",
       " 'hasn',\n",
       " \"hasn't\",\n",
       " 'haven',\n",
       " \"haven't\",\n",
       " 'isn',\n",
       " \"isn't\",\n",
       " 'ma',\n",
       " 'mightn',\n",
       " \"mightn't\",\n",
       " 'mustn',\n",
       " \"mustn't\",\n",
       " 'needn',\n",
       " \"needn't\",\n",
       " 'shan',\n",
       " \"shan't\",\n",
       " 'shouldn',\n",
       " \"shouldn't\",\n",
       " 'wasn',\n",
       " \"wasn't\",\n",
       " 'weren',\n",
       " \"weren't\",\n",
       " 'won',\n",
       " \"won't\",\n",
       " 'wouldn',\n",
       " \"wouldn't\"]"
      ]
     },
     "execution_count": 10,
     "metadata": {},
     "output_type": "execute_result"
    }
   ],
   "source": [
    "#English stop words:\n",
    "stop_words=stopwords.words(\"english\")\n",
    "stop_words"
   ]
  },
  {
   "cell_type": "code",
   "execution_count": 11,
   "metadata": {},
   "outputs": [
    {
     "name": "stdout",
     "output_type": "stream",
     "text": [
      "10619483\n"
     ]
    }
   ],
   "source": [
    "#I will check for every single word over all the reviews and if that word is not in the stop words list, then i will\n",
    "#append it to the list of content words. Also, since all the stop words are in lower, I will have to check for lower \n",
    "#case of words and I chose to append the words in lower case only, maintaining uniformity.I had a thought to maintain \n",
    "#case sensitivity, but then lemmatization considers context, so I chose to get it all in lower case:\n",
    "all_content_words=[]\n",
    "for sent in mth:\n",
    "    tokens=nltk.word_tokenize(sent)\n",
    "    for w in tokens:\n",
    "        if w.lower() not in stop_words:\n",
    "            all_content_words.append(w.lower())\n",
    "print(len(all_content_words))"
   ]
  },
  {
   "cell_type": "code",
   "execution_count": 12,
   "metadata": {},
   "outputs": [],
   "source": [
    "#Wrote the words to a file, read it next time. Earlier thing takes too long to run\n",
    "\n",
    "with open(\"all_content_words.txt\",\"w\") as file:\n",
    "    for w in all_content_words:\n",
    "        file.write(w+\" \")"
   ]
  },
  {
   "cell_type": "code",
   "execution_count": 13,
   "metadata": {},
   "outputs": [
    {
     "data": {
      "text/plain": [
       "65.04365854704257"
      ]
     },
     "execution_count": 13,
     "metadata": {},
     "output_type": "execute_result"
    }
   ],
   "source": [
    "#Average frequency for every word: 65.04365854704257\n",
    "len(all_content_words)/len(set(all_content_words))"
   ]
  },
  {
   "cell_type": "code",
   "execution_count": 24,
   "metadata": {},
   "outputs": [
    {
     "data": {
      "text/plain": [
       "'!\"#$%&\\'()*+,-./:;<=>?@[\\\\]^_`{|}~'"
      ]
     },
     "execution_count": 24,
     "metadata": {},
     "output_type": "execute_result"
    }
   ],
   "source": [
    "#Having a look at punctuations:\n",
    "string.punctuation"
   ]
  },
  {
   "cell_type": "code",
   "execution_count": 14,
   "metadata": {},
   "outputs": [
    {
     "name": "stdout",
     "output_type": "stream",
     "text": [
      "8528832\n",
      "['great', 'tutu', 'really', 'great', 'price', \"n't\", 'look', 'cheap', \"'m\", 'glad', 'looked', 'amazon', 'found', 'affordable', 'tutu', \"n't\", 'made', 'poorly', 'a++', 'bought', '4', 'yr', 'old', 'daughter', 'dance', 'class', 'wore', 'today', 'first', 'time', 'teacher', 'thought', 'adorable', 'bought', 'go', 'light', 'blue', 'long', 'sleeve', 'leotard', 'happy', 'colors', 'matched', 'great', 'price', 'good', 'since', 'go', '15.00', 'dollars', 'say', '...', 'daughters', 'orange', 'black', 'white', 'pink', 'thinking', 'buy', 'fuccia', 'one', 'good', 'way', 'exalt', 'dancer', 'outfit', 'great', 'colors', 'comfortable', 'looks', 'great', 'easy', 'wear', 'durables', 'little']\n"
     ]
    }
   ],
   "source": [
    "#I am going to remove all the punctuations from the corpus of words obtained. I initially tried to keep $ and # signs in the\n",
    "#corpus, but they are considered individual tokens, so I chose to remove them too:\n",
    "punc=string.punctuation\n",
    "#idx=punc.index(\"$\")\n",
    "#punc=punc[:idx]+punc[idx+1:]\n",
    "#print(punc)\n",
    "#idx=punc.index(\"#\")\n",
    "#punc=punc[:idx]+punc[idx+1:]\n",
    "#print(punc)\n",
    "#print(all_content_words[:50])\n",
    "punc_rem=[]\n",
    "for w in all_content_words:\n",
    "    if w not in punc:\n",
    "        punc_rem.append(w)\n",
    "print(len(punc_rem))\n",
    "print(punc_rem[:75])"
   ]
  },
  {
   "cell_type": "markdown",
   "metadata": {},
   "source": [
    "3). Data Analysis:"
   ]
  },
  {
   "cell_type": "markdown",
   "metadata": {},
   "source": [
    "List of top 50 words by frequency:"
   ]
  },
  {
   "cell_type": "code",
   "execution_count": 15,
   "metadata": {},
   "outputs": [],
   "source": [
    "#I wanna try 2 approaches; one without lemmatization and one with lemmatization\n",
    "word_freq=nltk.FreqDist(punc_rem)"
   ]
  },
  {
   "cell_type": "markdown",
   "metadata": {},
   "source": [
    "For just normal corpus (Without stop words and punctuations):"
   ]
  },
  {
   "cell_type": "code",
   "execution_count": 16,
   "metadata": {},
   "outputs": [
    {
     "name": "stdout",
     "output_type": "stream",
     "text": [
      "(\"n't\", 109807)\n",
      "('like', 90212)\n",
      "(\"'s\", 87745)\n",
      "('size', 85325)\n",
      "('fit', 80248)\n",
      "('wear', 79775)\n",
      "('great', 78393)\n",
      "('would', 67419)\n",
      "('good', 60382)\n",
      "('love', 60149)\n",
      "('well', 58212)\n",
      "('comfortable', 57492)\n",
      "('one', 56476)\n",
      "('shoes', 50444)\n",
      "('really', 46108)\n",
      "('nice', 46101)\n",
      "('little', 42750)\n",
      "('look', 42677)\n",
      "('bought', 42611)\n",
      "('...', 41489)\n",
      "('get', 38875)\n",
      "(\"'m\", 38637)\n",
      "('34', 35581)\n",
      "('price', 34830)\n",
      "('color', 33823)\n",
      "('pair', 33641)\n",
      "('quality', 33293)\n",
      "('small', 32928)\n",
      "('time', 32872)\n",
      "('ordered', 32734)\n",
      "('perfect', 31904)\n",
      "('shoe', 31523)\n",
      "('also', 30149)\n",
      "('much', 29976)\n",
      "('buy', 29284)\n",
      "('got', 29009)\n",
      "('made', 28195)\n",
      "('looks', 27625)\n",
      "('watch', 26975)\n",
      "('even', 26081)\n",
      "('bit', 25904)\n",
      "('fits', 25884)\n",
      "('long', 25654)\n",
      "('feet', 25123)\n",
      "('still', 23872)\n",
      "('recommend', 23301)\n",
      "('back', 22956)\n",
      "('big', 22913)\n",
      "('work', 22482)\n",
      "('wearing', 22323)\n"
     ]
    }
   ],
   "source": [
    "#For just words (punctuations removed)\n",
    "top_words=word_freq.most_common(50)\n",
    "for pair in top_words:\n",
    "    print(pair)"
   ]
  },
  {
   "cell_type": "markdown",
   "metadata": {},
   "source": [
    "For lemmatized corpus:"
   ]
  },
  {
   "cell_type": "code",
   "execution_count": 17,
   "metadata": {},
   "outputs": [],
   "source": [
    "lemmatizer=WordNetLemmatizer()\n",
    "lemma=[]\n",
    "for w in punc_rem:\n",
    "    l=lemmatizer.lemmatize(w)\n",
    "    lemma.append(l)"
   ]
  },
  {
   "cell_type": "code",
   "execution_count": 18,
   "metadata": {},
   "outputs": [
    {
     "name": "stdout",
     "output_type": "stream",
     "text": [
      "(\"n't\", 109807)\n",
      "('fit', 106132)\n",
      "('like', 94065)\n",
      "('size', 92357)\n",
      "(\"'s\", 87745)\n",
      "('wear', 86071)\n",
      "('shoe', 81967)\n",
      "('great', 78412)\n",
      "('love', 71025)\n",
      "('look', 70302)\n",
      "('would', 67419)\n",
      "('one', 64271)\n",
      "('good', 60579)\n",
      "('well', 58232)\n",
      "('comfortable', 57492)\n",
      "('color', 50881)\n",
      "('really', 46108)\n",
      "('nice', 46101)\n",
      "('little', 42753)\n",
      "('bought', 42611)\n",
      "('get', 41735)\n",
      "('...', 41489)\n",
      "('pair', 40204)\n",
      "('foot', 40025)\n",
      "('time', 38937)\n",
      "(\"'m\", 38637)\n",
      "('price', 35700)\n",
      "('34', 35581)\n",
      "('quality', 33405)\n",
      "('small', 33008)\n",
      "('ordered', 32734)\n",
      "('watch', 32426)\n",
      "('perfect', 31913)\n",
      "('also', 30149)\n",
      "('much', 29977)\n",
      "('buy', 29491)\n",
      "('work', 29095)\n",
      "('got', 29009)\n",
      "('made', 28195)\n",
      "('feel', 27050)\n",
      "('day', 26716)\n",
      "('even', 26086)\n",
      "('bit', 26084)\n",
      "('shirt', 26003)\n",
      "('bra', 25905)\n",
      "('long', 25654)\n",
      "('make', 24805)\n",
      "('go', 23949)\n",
      "('still', 23878)\n",
      "('back', 23620)\n"
     ]
    }
   ],
   "source": [
    "#For lemmas of words\n",
    "word_freq_1=nltk.FreqDist(lemma)\n",
    "top_lemma=word_freq_1.most_common(50)\n",
    "for pair in top_lemma:\n",
    "    print(pair)"
   ]
  },
  {
   "cell_type": "code",
   "execution_count": 19,
   "metadata": {},
   "outputs": [],
   "source": [
    "def alpha_filter(w):\n",
    "  # pattern to match word of non-alphabetical characters\n",
    "  pattern = re.compile('^[^a-z]+$')\n",
    "  if (pattern.match(w)):\n",
    "    return True\n",
    "  else:\n",
    "    return False"
   ]
  },
  {
   "cell_type": "code",
   "execution_count": 20,
   "metadata": {},
   "outputs": [
    {
     "name": "stdout",
     "output_type": "stream",
     "text": [
      "(('ca', \"n't\"), 0.0014527194345016997)\n",
      "(('well', 'made'), 0.001065796582697373)\n",
      "(('true', 'size'), 0.0009231041249258984)\n",
      "(('would', 'recommend'), 0.0008416158273489265)\n",
      "(('good', 'quality'), 0.0007419538806720545)\n",
      "(('fit', 'well'), 0.0007345671716830628)\n",
      "(('wo', \"n't\"), 0.0006857914424859113)\n",
      "(('fit', 'perfectly'), 0.0006354914717513489)\n",
      "(('highly', 'recommend'), 0.0006333809834687797)\n",
      "(('really', 'like'), 0.0006181385680946699)\n",
      "(('look', 'like'), 0.0005605691377201474)\n",
      "(('would', \"n't\"), 0.0005353605276783504)\n",
      "(('fit', 'great'), 0.0005291463121796748)\n",
      "(('looks', 'like'), 0.0005208216083984301)\n",
      "(('looks', 'great'), 0.00048775729197151496)\n",
      "(('could', \"n't\"), 0.0004817775751709026)\n",
      "(('look', 'great'), 0.00047110788440902574)\n",
      "(('great', 'price'), 0.00045504472359169464)\n",
      "(('another', 'pair'), 0.00045223073921493587)\n",
      "(('wear', 'size'), 0.00044355428738659643)\n",
      "(('fits', 'well'), 0.00043417433946406727)\n",
      "(('feel', 'like'), 0.00042608413438088594)\n",
      "(('year', 'old'), 0.000410255472261618)\n",
      "(('fit', 'perfect'), 0.0004046275035081005)\n",
      "((\"n't\", 'like'), 0.0004036895087158476)\n",
      "((\"n't\", 'know'), 0.0003870401011533584)\n",
      "(('even', 'though'), 0.00038317087263531514)\n",
      "(('would', 'buy'), 0.0003814121323998409)\n",
      "(('around', 'house'), 0.00037918439476824025)\n",
      "(('usually', 'wear'), 0.000377425654532766)\n",
      "(('ordered', 'size'), 0.00036745945986507884)\n",
      "((\"n't\", 'want'), 0.00036194874046059297)\n",
      "(('look', 'good'), 0.00036112799501737165)\n",
      "(('one', 'size'), 0.0003551482782167593)\n",
      "(('light', 'weight'), 0.0003540930340754748)\n",
      "(('fits', 'perfectly'), 0.00035362403667934833)\n",
      "(('normally', 'wear'), 0.0003511618003496845)\n",
      "(('half', 'size'), 0.0003418991017761869)\n",
      "(('long', 'time'), 0.00033240190450462616)\n",
      "(('thought', 'would'), 0.0003288844240336778)\n",
      "((\"n't\", 'wear'), 0.00032618768900595063)\n",
      "(('every', 'day'), 0.00032220121113887574)\n",
      "(('size', 'larger'), 0.0003143455047537576)\n",
      "(('arch', 'support'), 0.00031375925800859955)\n",
      "(('love', 'love'), 0.0003107107749337776)\n",
      "((\"'m\", 'sure'), 0.0003052000555292917)\n",
      "(('looks', 'good'), 0.0003043793100860704)\n",
      "(('really', 'nice'), 0.00030144807636028003)\n",
      "((\"n't\", 'think'), 0.0002989858400306161)\n",
      "((\"n't\", 'get'), 0.0002952338608616045)\n"
     ]
    }
   ],
   "source": [
    "#For just words (punctuations removed): Bigram measure using just frequency\n",
    "bigram_measures = nltk.collocations.BigramAssocMeasures()\n",
    "finder = BigramCollocationFinder.from_words(punc_rem)\n",
    "finder.apply_word_filter(alpha_filter)\n",
    "\n",
    "scored = finder.score_ngrams(bigram_measures.raw_freq)\n",
    "for bscore in scored[:50]:\n",
    "    print (bscore)"
   ]
  },
  {
   "cell_type": "code",
   "execution_count": 21,
   "metadata": {},
   "outputs": [
    {
     "name": "stdout",
     "output_type": "stream",
     "text": [
      "(('ca', \"n't\"), 0.0014527194345016997)\n",
      "(('fit', 'well'), 0.0011693277578922882)\n",
      "(('look', 'like'), 0.0010825632396088936)\n",
      "(('well', 'made'), 0.001065796582697373)\n",
      "(('fit', 'perfectly'), 0.0009891155084306971)\n",
      "(('look', 'great'), 0.0009593341737766672)\n",
      "(('true', 'size'), 0.0009246283664633094)\n",
      "(('would', 'recommend'), 0.0008416158273489265)\n",
      "(('fit', 'great'), 0.0007936608435949963)\n",
      "(('good', 'quality'), 0.0007432436235114022)\n",
      "(('really', 'like'), 0.000686494938580101)\n",
      "(('wo', \"n't\"), 0.0006857914424859113)\n",
      "(('look', 'good'), 0.0006656245544524737)\n",
      "(('highly', 'recommend'), 0.0006333809834687797)\n",
      "(('feel', 'like'), 0.0006127450980392157)\n",
      "(('fit', 'perfect'), 0.0005603346390220842)\n",
      "(('would', \"n't\"), 0.0005353605276783504)\n",
      "(('wear', 'size'), 0.0005135521487584701)\n",
      "(('year', 'old'), 0.0005031169566946564)\n",
      "(('could', \"n't\"), 0.0004817775751709026)\n",
      "(('great', 'price'), 0.0004636039260710025)\n",
      "(('another', 'pair'), 0.00045281698596009393)\n",
      "(('usually', 'wear'), 0.0004059172463474483)\n",
      "((\"n't\", 'like'), 0.00040380675806487925)\n",
      "(('fit', 'like'), 0.0004011100230371521)\n",
      "(('look', 'nice'), 0.00039407506209525523)\n",
      "(('different', 'color'), 0.0003904403322752752)\n",
      "((\"n't\", 'know'), 0.00038715735050239003)\n",
      "(('half', 'size'), 0.00038446061547466287)\n",
      "(('even', 'though'), 0.00038317087263531514)\n",
      "(('would', 'buy'), 0.00038152938174887256)\n",
      "(('around', 'house'), 0.00037930164411727185)\n",
      "(('normally', 'wear'), 0.00037766015323082927)\n",
      "(('ordered', 'size'), 0.0003688664520534582)\n",
      "(('one', 'size'), 0.00036241773785671943)\n",
      "((\"n't\", 'want'), 0.0003620659898096246)\n",
      "(('light', 'weight'), 0.00035456203147160126)\n",
      "(('size', 'larger'), 0.00034529933289810375)\n",
      "(('size', 'fit'), 0.0003423680991723134)\n",
      "(('woman', \"'s\"), 0.00033369164734397394)\n",
      "(('long', 'time'), 0.0003326364032026894)\n",
      "(('love', 'love'), 0.0003304086655710888)\n",
      "(('arch', 'support'), 0.0003290016733827094)\n",
      "(('thought', 'would'), 0.0003288844240336778)\n",
      "(('run', 'small'), 0.00032689118510014035)\n",
      "((\"n't\", 'wear'), 0.0003264221877040139)\n",
      "(('love', 'shoe'), 0.00032618768900595063)\n",
      "(('every', 'day'), 0.0003236082033272551)\n",
      "(('flip', 'flop'), 0.00032032522155436995)\n",
      "(('shoe', 'fit'), 0.0003145800034518208)\n"
     ]
    }
   ],
   "source": [
    "#For lemmas: Bigram measure using frequency\n",
    "bigram_measures1 = nltk.collocations.BigramAssocMeasures()\n",
    "finder1 = BigramCollocationFinder.from_words(lemma)\n",
    "finder1.apply_word_filter(alpha_filter)\n",
    "\n",
    "scored1 = finder1.score_ngrams(bigram_measures1.raw_freq)\n",
    "for bscore in scored1[:50]:\n",
    "    print (bscore)"
   ]
  },
  {
   "cell_type": "code",
   "execution_count": 22,
   "metadata": {
    "scrolled": true
   },
   "outputs": [
    {
     "name": "stdout",
     "output_type": "stream",
     "text": [
      "((\"'air\", \"out'.the\"), 23.02391675129152)\n",
      "((\"'angle\", 'shoe-seems'), 23.02391675129152)\n",
      "((\"'armour\", \"bra'.there\"), 23.02391675129152)\n",
      "((\"'assistance\", \"'reasoning'.moon\"), 23.02391675129152)\n",
      "((\"'avant\", 'guarde'), 23.02391675129152)\n",
      "((\"'balancing\", 'musclesfits'), 23.02391675129152)\n",
      "((\"'bargain\", 'category.first'), 23.02391675129152)\n",
      "((\"'bedroom\", 'colorwaynice'), 23.02391675129152)\n",
      "((\"'blasting\", 'rituals'), 23.02391675129152)\n",
      "((\"'blooms\", \"'puffs\"), 23.02391675129152)\n",
      "((\"'bondage\", 'lol.then'), 23.02391675129152)\n",
      "((\"'career\", \"pants'.long\"), 23.02391675129152)\n",
      "((\"'closet\", 'sitters'), 23.02391675129152)\n",
      "((\"'corn\", 'betwn'), 23.02391675129152)\n",
      "((\"'cut\", \"memory'.i\"), 23.02391675129152)\n",
      "((\"'defect\", 'certainlyput'), 23.02391675129152)\n",
      "((\"'dislikes\", \"'likes\"), 23.02391675129152)\n",
      "((\"'edit\", '.________________________________________________________length'), 23.02391675129152)\n",
      "((\"'eight\", 'ivory/off'), 23.02391675129152)\n",
      "((\"'finally\", 'working-man-manly-looking'), 23.02391675129152)\n",
      "((\"'fingers\", \"crossed'.it\"), 23.02391675129152)\n",
      "((\"'float\", 'diaper.very'), 23.02391675129152)\n",
      "((\"'foot\", 'mechancis'), 23.02391675129152)\n",
      "((\"'fuller\", 'socksinjinji'), 23.02391675129152)\n",
      "((\"'gimmick\", 'make-a-wish'), 23.02391675129152)\n",
      "((\"'guy\", \"hands'..\"), 23.02391675129152)\n",
      "((\"'hunching\", 'tensing'), 23.02391675129152)\n",
      "((\"'inu\", 'yasha'), 23.02391675129152)\n",
      "((\"'joggers\", \"'runners\"), 23.02391675129152)\n",
      "((\"'lines\", 'demarkation'), 23.02391675129152)\n",
      "((\"'liverpool\", 'jeansim'), 23.02391675129152)\n",
      "((\"'lovin\", 'spoonful'), 23.02391675129152)\n",
      "((\"'machine\", \"turning'.the\"), 23.02391675129152)\n",
      "((\"'mane-in-fede\", \"'fede\"), 23.02391675129152)\n",
      "((\"'materials\", \"'fabrics\"), 23.02391675129152)\n",
      "((\"'nano\", 'particals'), 23.02391675129152)\n",
      "((\"'okay\", 'wool/cashmere/poly'), 23.02391675129152)\n",
      "((\"'outdoorsy\", 'ubergeek'), 23.02391675129152)\n",
      "((\"'production\", 'areathis'), 23.02391675129152)\n",
      "((\"'professional\", \"'dressy'.the\"), 23.02391675129152)\n",
      "((\"'s'but\", \"'xxxs'not\"), 23.02391675129152)\n",
      "((\"'scrimped\", \"'crosilite'-plastic\"), 23.02391675129152)\n",
      "((\"'simulated\", 'grain/weathered'), 23.02391675129152)\n",
      "((\"'single\", \"'pair\"), 23.02391675129152)\n",
      "((\"'slate\", 'canton'), 23.02391675129152)\n",
      "((\"'stranger\", \"fiction'.feedback\"), 23.02391675129152)\n",
      "((\"'tags'comfortable\", 'materialchicks'), 23.02391675129152)\n",
      "((\"'tents\", 'dresses/shirts'), 23.02391675129152)\n",
      "((\"'thigh-rub\", 'funny..yes'), 23.02391675129152)\n",
      "((\"'traditional\", 'jeans.stitching'), 23.02391675129152)\n"
     ]
    }
   ],
   "source": [
    "#For just words (punctuations removed): Bigram measures using pmi:\n",
    "bigram_measures2 = nltk.collocations.BigramAssocMeasures()\n",
    "finder2 = BigramCollocationFinder.from_words(punc_rem)\n",
    "finder2.apply_word_filter(alpha_filter)\n",
    "\n",
    "scored2 = finder2.score_ngrams(bigram_measures2.pmi)\n",
    "for bscore in scored2[:50]:\n",
    "    print (bscore)"
   ]
  },
  {
   "cell_type": "code",
   "execution_count": 23,
   "metadata": {},
   "outputs": [
    {
     "name": "stdout",
     "output_type": "stream",
     "text": [
      "((\"'air\", \"out'.the\"), 23.02391675129152)\n",
      "((\"'angle\", 'shoe-seems'), 23.02391675129152)\n",
      "((\"'armour\", \"bra'.there\"), 23.02391675129152)\n",
      "((\"'assistance\", \"'reasoning'.moon\"), 23.02391675129152)\n",
      "((\"'avant\", 'guarde'), 23.02391675129152)\n",
      "((\"'balancing\", 'musclesfits'), 23.02391675129152)\n",
      "((\"'bargain\", 'category.first'), 23.02391675129152)\n",
      "((\"'bedroom\", 'colorwaynice'), 23.02391675129152)\n",
      "((\"'blooms\", \"'puffs\"), 23.02391675129152)\n",
      "((\"'bondage\", 'lol.then'), 23.02391675129152)\n",
      "((\"'career\", \"pants'.long\"), 23.02391675129152)\n",
      "((\"'corn\", 'betwn'), 23.02391675129152)\n",
      "((\"'cut\", \"memory'.i\"), 23.02391675129152)\n",
      "((\"'defect\", 'certainlyput'), 23.02391675129152)\n",
      "((\"'dislikes\", \"'likes\"), 23.02391675129152)\n",
      "((\"'edit\", '.________________________________________________________length'), 23.02391675129152)\n",
      "((\"'eight\", 'ivory/off'), 23.02391675129152)\n",
      "((\"'finally\", 'working-man-manly-looking'), 23.02391675129152)\n",
      "((\"'fingers\", \"crossed'.it\"), 23.02391675129152)\n",
      "((\"'float\", 'diaper.very'), 23.02391675129152)\n",
      "((\"'foot\", 'mechancis'), 23.02391675129152)\n",
      "((\"'fuller\", 'socksinjinji'), 23.02391675129152)\n",
      "((\"'gimmick\", 'make-a-wish'), 23.02391675129152)\n",
      "((\"'guy\", \"hands'..\"), 23.02391675129152)\n",
      "((\"'hunching\", 'tensing'), 23.02391675129152)\n",
      "((\"'inu\", 'yasha'), 23.02391675129152)\n",
      "((\"'joggers\", \"'runners\"), 23.02391675129152)\n",
      "((\"'lines\", 'demarkation'), 23.02391675129152)\n",
      "((\"'liverpool\", 'jeansim'), 23.02391675129152)\n",
      "((\"'lovin\", 'spoonful'), 23.02391675129152)\n",
      "((\"'machine\", \"turning'.the\"), 23.02391675129152)\n",
      "((\"'mane-in-fede\", \"'fede\"), 23.02391675129152)\n",
      "((\"'materials\", \"'fabrics\"), 23.02391675129152)\n",
      "((\"'nano\", 'particals'), 23.02391675129152)\n",
      "((\"'okay\", 'wool/cashmere/poly'), 23.02391675129152)\n",
      "((\"'outdoorsy\", 'ubergeek'), 23.02391675129152)\n",
      "((\"'production\", 'areathis'), 23.02391675129152)\n",
      "((\"'professional\", \"'dressy'.the\"), 23.02391675129152)\n",
      "((\"'s'but\", \"'xxxs'not\"), 23.02391675129152)\n",
      "((\"'scrimped\", \"'crosilite'-plastic\"), 23.02391675129152)\n",
      "((\"'simulated\", 'grain/weathered'), 23.02391675129152)\n",
      "((\"'single\", \"'pair\"), 23.02391675129152)\n",
      "((\"'slate\", 'canton'), 23.02391675129152)\n",
      "((\"'stranger\", \"fiction'.feedback\"), 23.02391675129152)\n",
      "((\"'tags'comfortable\", 'materialchicks'), 23.02391675129152)\n",
      "((\"'tents\", 'dresses/shirts'), 23.02391675129152)\n",
      "((\"'thigh-rub\", 'funny..yes'), 23.02391675129152)\n",
      "((\"'traditional\", 'jeans.stitching'), 23.02391675129152)\n",
      "((\"'violater\", \"'bowing\"), 23.02391675129152)\n",
      "((\"'young\", 'kitten-type'), 23.02391675129152)\n"
     ]
    }
   ],
   "source": [
    "#For lemmas: Bigram measures using pmi:\n",
    "bigram_measures3 = nltk.collocations.BigramAssocMeasures()\n",
    "finder3 = BigramCollocationFinder.from_words(lemma)\n",
    "finder3.apply_word_filter(alpha_filter)\n",
    "\n",
    "scored3 = finder3.score_ngrams(bigram_measures3.pmi)\n",
    "for bscore in scored3[:50]:\n",
    "    print (bscore)"
   ]
  }
 ],
 "metadata": {
  "kernelspec": {
   "display_name": "Python 3",
   "language": "python",
   "name": "python3"
  },
  "language_info": {
   "codemirror_mode": {
    "name": "ipython",
    "version": 3
   },
   "file_extension": ".py",
   "mimetype": "text/x-python",
   "name": "python",
   "nbconvert_exporter": "python",
   "pygments_lexer": "ipython3",
   "version": "3.7.3"
  }
 },
 "nbformat": 4,
 "nbformat_minor": 2
}
